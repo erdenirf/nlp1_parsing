{
 "cells": [
  {
   "cell_type": "code",
   "execution_count": 1,
   "metadata": {},
   "outputs": [],
   "source": [
    "from pathlib import Path\n",
    "from tqdm import tqdm\n",
    "from src.utils import parse_html\n",
    "import pandas as pd"
   ]
  },
  {
   "cell_type": "code",
   "execution_count": 2,
   "metadata": {},
   "outputs": [
    {
     "name": "stderr",
     "output_type": "stream",
     "text": [
      "100%|██████████| 13073/13073 [09:56<00:00, 21.91it/s]\n"
     ]
    }
   ],
   "source": [
    "folder = Path('downloads')\n",
    "filenames = sorted(folder.glob('*.html'))\n",
    "\n",
    "posts = []\n",
    "\n",
    "for index, file in enumerate(tqdm(filenames)):\n",
    "    html = Path(file).read_text()\n",
    "\n",
    "    try:\n",
    "        posts.append(parse_html(html))\n",
    "    except Exception as e:\n",
    "        print(f'[{index}] {filenames[index]} - {e}')"
   ]
  },
  {
   "cell_type": "code",
   "execution_count": 3,
   "metadata": {},
   "outputs": [
    {
     "data": {
      "text/plain": [
       "{'date': '2011 - 10 - 18 17:59:00',\n",
       " 'title': 'Короткие анекдоты',\n",
       " 'categories': 'Юмор',\n",
       " 'body': 'Че, расскажите анекдот какой-нибудь короткий. Желательно однострочный. Баяны велкам.',\n",
       " 'tags': 'анекдот,вам слово,коллекция',\n",
       " 'url': 'https://tema.livejournal.com/1000156.html'}"
      ]
     },
     "execution_count": 3,
     "metadata": {},
     "output_type": "execute_result"
    }
   ],
   "source": [
    "posts[0]"
   ]
  },
  {
   "cell_type": "code",
   "execution_count": 4,
   "metadata": {},
   "outputs": [],
   "source": [
    "df = pd.DataFrame(posts).set_index('date')\n",
    "df.index = pd.to_datetime(df.index, format='mixed')\n",
    "df.replace(\"N/A\", pd.NA, inplace=True)"
   ]
  },
  {
   "cell_type": "code",
   "execution_count": 5,
   "metadata": {},
   "outputs": [
    {
     "data": {
      "text/html": [
       "<div>\n",
       "<style scoped>\n",
       "    .dataframe tbody tr th:only-of-type {\n",
       "        vertical-align: middle;\n",
       "    }\n",
       "\n",
       "    .dataframe tbody tr th {\n",
       "        vertical-align: top;\n",
       "    }\n",
       "\n",
       "    .dataframe thead th {\n",
       "        text-align: right;\n",
       "    }\n",
       "</style>\n",
       "<table border=\"1\" class=\"dataframe\">\n",
       "  <thead>\n",
       "    <tr style=\"text-align: right;\">\n",
       "      <th></th>\n",
       "      <th>title</th>\n",
       "      <th>categories</th>\n",
       "      <th>body</th>\n",
       "      <th>tags</th>\n",
       "      <th>url</th>\n",
       "    </tr>\n",
       "    <tr>\n",
       "      <th>date</th>\n",
       "      <th></th>\n",
       "      <th></th>\n",
       "      <th></th>\n",
       "      <th></th>\n",
       "      <th></th>\n",
       "    </tr>\n",
       "  </thead>\n",
       "  <tbody>\n",
       "    <tr>\n",
       "      <th>2011-10-18 17:59:00</th>\n",
       "      <td>Короткие анекдоты</td>\n",
       "      <td>Юмор</td>\n",
       "      <td>Че, расскажите анекдот какой-нибудь короткий. ...</td>\n",
       "      <td>анекдот,вам слово,коллекция</td>\n",
       "      <td>https://tema.livejournal.com/1000156.html</td>\n",
       "    </tr>\n",
       "    <tr>\n",
       "      <th>2011-10-19 09:00:00</th>\n",
       "      <td>Необычный пиар необычного датацентра</td>\n",
       "      <td>18+</td>\n",
       "      <td>* * * Реклама в уютной жэжэшечке * Текст предо...</td>\n",
       "      <td>датацентр,колокол,постпроплачен,реклама,сиськи</td>\n",
       "      <td>https://tema.livejournal.com/1000333.html</td>\n",
       "    </tr>\n",
       "    <tr>\n",
       "      <th>2011-10-19 15:02:00</th>\n",
       "      <td>Ретротревел</td>\n",
       "      <td>Путешествия, Россия</td>\n",
       "      <td>Рассказы о поездках в Берлин, Ингольштадт и Иж...</td>\n",
       "      <td>авто,берлин,германия,ижевск,ингольштадт,тревел...</td>\n",
       "      <td>https://tema.livejournal.com/1000574.html</td>\n",
       "    </tr>\n",
       "    <tr>\n",
       "      <th>2011-10-19 18:36:00</th>\n",
       "      <td>Кушать подано!</td>\n",
       "      <td>Еда, История, СССР, Россия</td>\n",
       "      <td>&lt;NA&gt;</td>\n",
       "      <td>еда,завтрак,кремль,меню,обед,ссср</td>\n",
       "      <td>https://tema.livejournal.com/1000934.html</td>\n",
       "    </tr>\n",
       "    <tr>\n",
       "      <th>2011-10-19 22:43:00</th>\n",
       "      <td>Цвет во время ЧБ</td>\n",
       "      <td>История</td>\n",
       "      <td>Поразительно, насколько широкое распространени...</td>\n",
       "      <td>видео,ссср,сша,фото,цвет,чб</td>\n",
       "      <td>https://tema.livejournal.com/1001195.html</td>\n",
       "    </tr>\n",
       "    <tr>\n",
       "      <th>...</th>\n",
       "      <td>...</td>\n",
       "      <td>...</td>\n",
       "      <td>...</td>\n",
       "      <td>...</td>\n",
       "      <td>...</td>\n",
       "    </tr>\n",
       "    <tr>\n",
       "      <th>2011-10-17 14:36:00</th>\n",
       "      <td>Нихуясечебывает: прокладки для подмышек</td>\n",
       "      <td>Животные</td>\n",
       "      <td>Открыть и вести новую рубрику \"Нихуясечебывает...</td>\n",
       "      <td>гигиена,дивуар,кот,нихуясечебывает,подмышки,пр...</td>\n",
       "      <td>https://tema.livejournal.com/999056.html</td>\n",
       "    </tr>\n",
       "    <tr>\n",
       "      <th>2011-10-18 00:23:00</th>\n",
       "      <td>Гепатиту нет</td>\n",
       "      <td>Общество, Медицина</td>\n",
       "      <td>Московский областной гепатологический центр за...</td>\n",
       "      <td>гепатит,мед,реклама,социалка</td>\n",
       "      <td>https://tema.livejournal.com/999329.html</td>\n",
       "    </tr>\n",
       "    <tr>\n",
       "      <th>2011-10-18 04:04:00</th>\n",
       "      <td>Три вопроса</td>\n",
       "      <td>Общество, Лытдыбр</td>\n",
       "      <td>Первый Артемий, а вот как бы вы поступили по т...</td>\n",
       "      <td>вопрос,совет</td>\n",
       "      <td>https://tema.livejournal.com/999500.html</td>\n",
       "    </tr>\n",
       "    <tr>\n",
       "      <th>2008-05-17 19:40:00</th>\n",
       "      <td>Сиськи</td>\n",
       "      <td>18+</td>\n",
       "      <td>&lt;NA&gt;</td>\n",
       "      <td>сиськи</td>\n",
       "      <td>https://tema.livejournal.com/99959.html</td>\n",
       "    </tr>\n",
       "    <tr>\n",
       "      <th>2011-10-18 14:38:00</th>\n",
       "      <td>Предпочтения русскоязычной аудитории: латински...</td>\n",
       "      <td>История, Общество</td>\n",
       "      <td>На пороге нового тысячелетия определяются тенд...</td>\n",
       "      <td>алфавит,латиница,опрос</td>\n",
       "      <td>https://tema.livejournal.com/999893.html</td>\n",
       "    </tr>\n",
       "  </tbody>\n",
       "</table>\n",
       "<p>13073 rows × 5 columns</p>\n",
       "</div>"
      ],
      "text/plain": [
       "                                                                 title  \\\n",
       "date                                                                     \n",
       "2011-10-18 17:59:00                                  Короткие анекдоты   \n",
       "2011-10-19 09:00:00               Необычный пиар необычного датацентра   \n",
       "2011-10-19 15:02:00                                        Ретротревел   \n",
       "2011-10-19 18:36:00                                     Кушать подано!   \n",
       "2011-10-19 22:43:00                                   Цвет во время ЧБ   \n",
       "...                                                                ...   \n",
       "2011-10-17 14:36:00            Нихуясечебывает: прокладки для подмышек   \n",
       "2011-10-18 00:23:00                                       Гепатиту нет   \n",
       "2011-10-18 04:04:00                                        Три вопроса   \n",
       "2008-05-17 19:40:00                                             Сиськи   \n",
       "2011-10-18 14:38:00  Предпочтения русскоязычной аудитории: латински...   \n",
       "\n",
       "                                     categories  \\\n",
       "date                                              \n",
       "2011-10-18 17:59:00                        Юмор   \n",
       "2011-10-19 09:00:00                         18+   \n",
       "2011-10-19 15:02:00         Путешествия, Россия   \n",
       "2011-10-19 18:36:00  Еда, История, СССР, Россия   \n",
       "2011-10-19 22:43:00                     История   \n",
       "...                                         ...   \n",
       "2011-10-17 14:36:00                    Животные   \n",
       "2011-10-18 00:23:00          Общество, Медицина   \n",
       "2011-10-18 04:04:00           Общество, Лытдыбр   \n",
       "2008-05-17 19:40:00                         18+   \n",
       "2011-10-18 14:38:00           История, Общество   \n",
       "\n",
       "                                                                  body  \\\n",
       "date                                                                     \n",
       "2011-10-18 17:59:00  Че, расскажите анекдот какой-нибудь короткий. ...   \n",
       "2011-10-19 09:00:00  * * * Реклама в уютной жэжэшечке * Текст предо...   \n",
       "2011-10-19 15:02:00  Рассказы о поездках в Берлин, Ингольштадт и Иж...   \n",
       "2011-10-19 18:36:00                                               <NA>   \n",
       "2011-10-19 22:43:00  Поразительно, насколько широкое распространени...   \n",
       "...                                                                ...   \n",
       "2011-10-17 14:36:00  Открыть и вести новую рубрику \"Нихуясечебывает...   \n",
       "2011-10-18 00:23:00  Московский областной гепатологический центр за...   \n",
       "2011-10-18 04:04:00  Первый Артемий, а вот как бы вы поступили по т...   \n",
       "2008-05-17 19:40:00                                               <NA>   \n",
       "2011-10-18 14:38:00  На пороге нового тысячелетия определяются тенд...   \n",
       "\n",
       "                                                                  tags  \\\n",
       "date                                                                     \n",
       "2011-10-18 17:59:00                        анекдот,вам слово,коллекция   \n",
       "2011-10-19 09:00:00     датацентр,колокол,постпроплачен,реклама,сиськи   \n",
       "2011-10-19 15:02:00  авто,берлин,германия,ижевск,ингольштадт,тревел...   \n",
       "2011-10-19 18:36:00                  еда,завтрак,кремль,меню,обед,ссср   \n",
       "2011-10-19 22:43:00                        видео,ссср,сша,фото,цвет,чб   \n",
       "...                                                                ...   \n",
       "2011-10-17 14:36:00  гигиена,дивуар,кот,нихуясечебывает,подмышки,пр...   \n",
       "2011-10-18 00:23:00                       гепатит,мед,реклама,социалка   \n",
       "2011-10-18 04:04:00                                       вопрос,совет   \n",
       "2008-05-17 19:40:00                                             сиськи   \n",
       "2011-10-18 14:38:00                             алфавит,латиница,опрос   \n",
       "\n",
       "                                                           url  \n",
       "date                                                            \n",
       "2011-10-18 17:59:00  https://tema.livejournal.com/1000156.html  \n",
       "2011-10-19 09:00:00  https://tema.livejournal.com/1000333.html  \n",
       "2011-10-19 15:02:00  https://tema.livejournal.com/1000574.html  \n",
       "2011-10-19 18:36:00  https://tema.livejournal.com/1000934.html  \n",
       "2011-10-19 22:43:00  https://tema.livejournal.com/1001195.html  \n",
       "...                                                        ...  \n",
       "2011-10-17 14:36:00   https://tema.livejournal.com/999056.html  \n",
       "2011-10-18 00:23:00   https://tema.livejournal.com/999329.html  \n",
       "2011-10-18 04:04:00   https://tema.livejournal.com/999500.html  \n",
       "2008-05-17 19:40:00    https://tema.livejournal.com/99959.html  \n",
       "2011-10-18 14:38:00   https://tema.livejournal.com/999893.html  \n",
       "\n",
       "[13073 rows x 5 columns]"
      ]
     },
     "execution_count": 5,
     "metadata": {},
     "output_type": "execute_result"
    }
   ],
   "source": [
    "df"
   ]
  },
  {
   "cell_type": "code",
   "execution_count": 6,
   "metadata": {},
   "outputs": [
    {
     "data": {
      "text/plain": [
       "title           23\n",
       "categories    2704\n",
       "body           173\n",
       "tags           361\n",
       "url              0\n",
       "dtype: int64"
      ]
     },
     "execution_count": 6,
     "metadata": {},
     "output_type": "execute_result"
    }
   ],
   "source": [
    "df.isna().sum()"
   ]
  },
  {
   "cell_type": "code",
   "execution_count": 10,
   "metadata": {},
   "outputs": [],
   "source": [
    "df.to_parquet('data/posts.parquet')"
   ]
  }
 ],
 "metadata": {
  "kernelspec": {
   "display_name": "new_python3.12",
   "language": "python",
   "name": "python3"
  },
  "language_info": {
   "codemirror_mode": {
    "name": "ipython",
    "version": 3
   },
   "file_extension": ".py",
   "mimetype": "text/x-python",
   "name": "python",
   "nbconvert_exporter": "python",
   "pygments_lexer": "ipython3",
   "version": "3.12.7"
  }
 },
 "nbformat": 4,
 "nbformat_minor": 2
}
